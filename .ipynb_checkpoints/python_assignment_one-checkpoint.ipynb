{
 "cells": [
  {
   "cell_type": "code",
   "execution_count": 1,
   "id": "435b802c-ea57-400f-a0cd-0519c789f078",
   "metadata": {
    "tags": []
   },
   "outputs": [
    {
     "name": "stdin",
     "output_type": "stream",
     "text": [
      "what's the first number?  33\n",
      "what's the second number?  3\n"
     ]
    },
    {
     "name": "stdout",
     "output_type": "stream",
     "text": [
      "You have 33 cokies + 3 cokies, that's a delicious total of 36 cokies!\n"
     ]
    }
   ],
   "source": [
    "#Question one Developing a acalculator that displays a funny message\n",
    "num_one = int(input(\"what's the first number? \"))\n",
    "num_two = int(input(\"what's the second number? \"))\n",
    "add = num_one + num_two\n",
    "print(f\"You have {num_one} cokies + {num_two} cokies, that's a delicious total of {add} cokies!\")"
   ]
  },
  {
   "cell_type": "code",
   "execution_count": 2,
   "id": "6bfa9a85-653b-423b-ad0e-c9d539c9ea63",
   "metadata": {
    "tags": []
   },
   "outputs": [
    {
     "name": "stdin",
     "output_type": "stream",
     "text": [
      "What is your name?  Anath\n"
     ]
    },
    {
     "name": "stdout",
     "output_type": "stream",
     "text": [
      "Happy birthday to Anath, happy birthday to you! May your day be filled with laughter and cake, too!\n"
     ]
    }
   ],
   "source": [
    "#Write a program that asks the user for a name and sings them a silly birthday song using their name\n",
    "#(e.g., \"Happy birthday to [name], happy birthday to you! May your day be filled with laughter and cake, too!\")\n",
    "name = input(\"What is your name? \")\n",
    "print(f\"Happy birthday to {name}, happy birthday to you! May your day be filled with laughter and cake, too!\")"
   ]
  },
  {
   "cell_type": "code",
   "execution_count": 3,
   "id": "975a5afc-ab64-4c63-9e8b-c1d48170ab67",
   "metadata": {
    "tags": []
   },
   "outputs": [
    {
     "name": "stdin",
     "output_type": "stream",
     "text": [
      "What is the temperature in centigrade?  200\n"
     ]
    },
    {
     "name": "stdout",
     "output_type": "stream",
     "text": [
      "200.0 centigrade = 392.0 fahrenheit\n"
     ]
    }
   ],
   "source": [
    "#Write a program that allows the user to enter a temperature in Celsius and converts it to Fahrenheit\n",
    "#using a basic formula (F = (C x 9/5) + 32).\n",
    "centigrade = float(input(\"What is the temperature in centigrade? \"))\n",
    "fahrenheit = centigrade * 9/5 + 32\n",
    "print(f\"{centigrade} centigrade = {fahrenheit} fahrenheit\")"
   ]
  },
  {
   "cell_type": "code",
   "execution_count": 4,
   "id": "9687d116-469e-43d9-a427-997d4595e5d5",
   "metadata": {
    "tags": []
   },
   "outputs": [
    {
     "name": "stdin",
     "output_type": "stream",
     "text": [
      "Hi there! What is your name?  Anath\n",
      "That's a nice name. How old are you?  22\n"
     ]
    },
    {
     "name": "stdout",
     "output_type": "stream",
     "text": [
      "Hello Anath, welcome! You seem like a fantastic person at 22 years old.\n"
     ]
    }
   ],
   "source": [
    "#Create a program that asks the user for their name and age. Then, display a personalized greeting\n",
    "#message that incorporates their name and age (e.g., \"Hello [name], welcome! You seem like a fantastic person at [age] years old.\").\n",
    "name = input(\"Hi there! What is your name? \")\n",
    "age = input(\"That's a nice name. How old are you? \")\n",
    "print(f\"Hello {name}, welcome! You seem like a fantastic person at {age} years old.\")"
   ]
  },
  {
   "cell_type": "code",
   "execution_count": 5,
   "id": "809115f0-3296-43d7-a41e-f7cafd9b455d",
   "metadata": {
    "tags": []
   },
   "outputs": [
    {
     "name": "stdin",
     "output_type": "stream",
     "text": [
      "How much is the item excluding tax?  30\n"
     ]
    },
    {
     "name": "stdout",
     "output_type": "stream",
     "text": [
      "The final price of the item is $32.1\n"
     ]
    }
   ],
   "source": [
    "#Write a program that asks the user for the price of an item (without tax). Then, calculate and\n",
    "#display the final price with a pre-set tax rate (e.g., 7%) added.\n",
    "tax_rate = 0.07\n",
    "actual_price = float(input(\"How much is the item excluding tax? \"))\n",
    "final_price = tax_rate * actual_price + actual_price\n",
    "print(f\"The final price of the item is ${final_price}\")"
   ]
  },
  {
   "cell_type": "code",
   "execution_count": 6,
   "id": "bb503956-1562-4aac-95b8-e34855d948d6",
   "metadata": {
    "tags": []
   },
   "outputs": [
    {
     "name": "stdout",
     "output_type": "stream",
     "text": [
      "Hi there! Let's create a potion. List your ingredients.\n"
     ]
    },
    {
     "name": "stdin",
     "output_type": "stream",
     "text": [
      "Main ingredient:  strawberry\n",
      "Spice it up:  ginger\n",
      "Now let's add some flavor:  vanilla\n"
     ]
    },
    {
     "name": "stdout",
     "output_type": "stream",
     "text": [
      "Mixing up strawberry and vanilla, with a spice of ginger creates a captivating aromatic potion!\n"
     ]
    }
   ],
   "source": [
    "#Simulate a mad scientist's lab where the user enters two or three \"ingredients\" (which can be actual ingredients or funny names). \n",
    "#The program then combines these ingredients into a silly potion name using string concatenation \n",
    "#(e.g., \"Mixing apple juice and vinegar creates the Fizzy Frenzy Potion!\").\n",
    "print(\"Hi there! Let's create a potion. List your ingredients.\")\n",
    "item_one = input(\"Main ingredient: \")\n",
    "item_two = input(\"Spice it up: \")\n",
    "item_three = input(\"Now let's add some flavor: \")\n",
    "print(\"Mixing up \" + item_one + \" and \" + item_three + \", with a spice of \" + item_two + \" creates a captivating aromatic potion!\")"
   ]
  },
  {
   "cell_type": "code",
   "execution_count": null,
   "id": "742b1863-6407-43c7-9e9a-2515867cffb9",
   "metadata": {},
   "outputs": [],
   "source": []
  }
 ],
 "metadata": {
  "kernelspec": {
   "display_name": "Python 3 (ipykernel)",
   "language": "python",
   "name": "python3"
  },
  "language_info": {
   "codemirror_mode": {
    "name": "ipython",
    "version": 3
   },
   "file_extension": ".py",
   "mimetype": "text/x-python",
   "name": "python",
   "nbconvert_exporter": "python",
   "pygments_lexer": "ipython3",
   "version": "3.11.5"
  }
 },
 "nbformat": 4,
 "nbformat_minor": 5
}
